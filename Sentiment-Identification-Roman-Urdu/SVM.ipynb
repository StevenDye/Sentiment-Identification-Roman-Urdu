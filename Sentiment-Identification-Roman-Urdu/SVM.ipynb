{
 "cells": [
  {
   "cell_type": "code",
   "execution_count": 1,
   "metadata": {},
   "outputs": [
    {
     "name": "stderr",
     "output_type": "stream",
     "text": [
      "/Users/stevedye/anaconda3/lib/python3.6/site-packages/h5py/__init__.py:36: FutureWarning: Conversion of the second argument of issubdtype from `float` to `np.floating` is deprecated. In future, it will be treated as `np.float64 == np.dtype(float).type`.\n",
      "  from ._conv import register_converters as _register_converters\n",
      "Using TensorFlow backend.\n",
      "/Users/stevedye/anaconda3/lib/python3.6/site-packages/numpy/core/fromnumeric.py:2957: RuntimeWarning: Mean of empty slice.\n",
      "  out=out, **kwargs)\n"
     ]
    }
   ],
   "source": [
    "import matplotlib.pyplot as plt\n",
    "from imblearn.over_sampling import SMOTE\n",
    "from imblearn.pipeline import Pipeline\n",
    "from sklearn.model_selection import cross_val_score, GridSearchCV\n",
    "from sklearn.svm import SVC\n",
    "\n",
    "from src.data_prep import y_train, y_test, tf_idf_data_train, tf_idf_data_test\n",
    "from src.visualizations import evaluate_model, confusion_matrix_heat_map"
   ]
  },
  {
   "cell_type": "code",
   "execution_count": 2,
   "metadata": {},
   "outputs": [],
   "source": [
    "pipe = Pipeline([\n",
    "    ('smote', SMOTE(random_state=0)),\n",
    "    ('SVM', SVC(gamma='auto', random_state=0))])"
   ]
  },
  {
   "cell_type": "code",
   "execution_count": 3,
   "metadata": {},
   "outputs": [],
   "source": [
    "# parameters = {'C': [0.1, 1, 10],\n",
    "#               'kernel': ['rbf', 'linear', 'poly', 'sigmoid', 'precomputed']}\n",
    "\n",
    "parameters = {'SVM__C': [1],\n",
    "              'SVM__kernel': ['linear']}"
   ]
  },
  {
   "cell_type": "code",
   "execution_count": 4,
   "metadata": {},
   "outputs": [
    {
     "name": "stdout",
     "output_type": "stream",
     "text": [
      "Pipeline(memory=None,\n",
      "         steps=[('smote',\n",
      "                 SMOTE(k_neighbors=5, kind='deprecated',\n",
      "                       m_neighbors='deprecated', n_jobs=1,\n",
      "                       out_step='deprecated', random_state=0, ratio=None,\n",
      "                       sampling_strategy='auto', svm_estimator='deprecated')),\n",
      "                ('SVM',\n",
      "                 SVC(C=1, cache_size=200, class_weight=None, coef0=0.0,\n",
      "                     decision_function_shape='ovr', degree=3, gamma='auto',\n",
      "                     kernel='linear', max_iter=-1, probability=False,\n",
      "                     random_state=0, shrinking=True, tol=0.001,\n",
      "                     verbose=False))],\n",
      "         verbose=False)\n"
     ]
    }
   ],
   "source": [
    "svm_classifier = GridSearchCV(pipe, parameters, cv=3, n_jobs= -1)\n",
    "svm_classifier.fit(tf_idf_data_train, y_train)\n",
    "print(svm_classifier.best_estimator_)"
   ]
  },
  {
   "cell_type": "code",
   "execution_count": 5,
   "metadata": {},
   "outputs": [
    {
     "name": "stdout",
     "output_type": "stream",
     "text": [
      "Training Score:0.8930289275794323\n",
      "Cross V Score: 0.6118824995911003 +/- 0.0021180037501085424\n",
      "Testing Score: 0.6330014224751067\n",
      "Cross & Test Diff: 0.021118922884006408\n",
      "Standard Deviations Away: 9.971145179947918\n",
      "[[ 770  357  184]\n",
      " [ 381 1408  358]\n",
      " [ 202  324  937]]\n"
     ]
    }
   ],
   "source": [
    "evaluate_model(tf_idf_data_train, y_train, tf_idf_data_test, y_test, svm_classifier)"
   ]
  },
  {
   "cell_type": "code",
   "execution_count": 6,
   "metadata": {},
   "outputs": [
    {
     "data": {
      "image/png": "[encoded data removed]",
      "text/plain": [
       "<Figure size 432x288 with 2 Axes>"
      ]
     },
     "metadata": {},
     "output_type": "display_data"
    }
   ],
   "source": [
    "confusion_matrix_heat_map(svm_classifier, tf_idf_data_test, y_test)"
   ]
  },
  {
   "cell_type": "code",
   "execution_count": null,
   "metadata": {},
   "outputs": [],
   "source": []
  }
 ],
 "metadata": {
  "kernelspec": {
   "display_name": "Python 3",
   "language": "python",
   "name": "python3"
  },
  "language_info": {
   "codemirror_mode": {
    "name": "ipython",
    "version": 3
   },
   "file_extension": ".py",
   "mimetype": "text/x-python",
   "name": "python",
   "nbconvert_exporter": "python",
   "pygments_lexer": "ipython3",
   "version": "3.6.5"
  }
 },
 "nbformat": 4,
 "nbformat_minor": 2
}
