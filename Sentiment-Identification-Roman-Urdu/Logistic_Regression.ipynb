{
 "cells": [
  {
   "cell_type": "code",
   "execution_count": 1,
   "metadata": {},
   "outputs": [
    {
     "name": "stderr",
     "output_type": "stream",
     "text": [
      "/Users/stevedye/anaconda3/lib/python3.6/site-packages/h5py/__init__.py:36: FutureWarning: Conversion of the second argument of issubdtype from `float` to `np.floating` is deprecated. In future, it will be treated as `np.float64 == np.dtype(float).type`.\n",
      "  from ._conv import register_converters as _register_converters\n",
      "Using TensorFlow backend.\n",
      "/Users/stevedye/anaconda3/lib/python3.6/site-packages/numpy/core/fromnumeric.py:2957: RuntimeWarning: Mean of empty slice.\n",
      "  out=out, **kwargs)\n"
     ]
    }
   ],
   "source": [
    "import matplotlib.pyplot as plt\n",
    "from imblearn.over_sampling import SMOTE\n",
    "from imblearn.pipeline import make_pipeline, Pipeline\n",
    "from sklearn.linear_model import LogisticRegression\n",
    "from sklearn.metrics import accuracy_score, confusion_matrix\n",
    "from sklearn.model_selection import cross_val_score, GridSearchCV\n",
    "\n",
    "from data_prep import y_train, y_test, tf_idf_data_train, tf_idf_data_test\n",
    "from visualizations import evaluate_model, confusion_matrix_heat_map"
   ]
  },
  {
   "cell_type": "code",
   "execution_count": 2,
   "metadata": {},
   "outputs": [],
   "source": [
    "pipe = Pipeline([\n",
    "    ('smote', SMOTE(random_state=0)),\n",
    "    ('log', LogisticRegression(random_state=0, max_iter=1000))])"
   ]
  },
  {
   "cell_type": "code",
   "execution_count": 3,
   "metadata": {},
   "outputs": [],
   "source": [
    "parameters = {'log__C':  [30],\n",
    "              'log__penalty': ['l2'],\n",
    "              'log__solver': ['saga'],\n",
    "              'log__multi_class': ['auto']}"
   ]
  },
  {
   "cell_type": "code",
   "execution_count": 4,
   "metadata": {},
   "outputs": [
    {
     "name": "stdout",
     "output_type": "stream",
     "text": [
      "Pipeline(memory=None,\n",
      "         steps=[('smote',\n",
      "                 SMOTE(k_neighbors=5, kind='deprecated',\n",
      "                       m_neighbors='deprecated', n_jobs=1,\n",
      "                       out_step='deprecated', random_state=0, ratio=None,\n",
      "                       sampling_strategy='auto', svm_estimator='deprecated')),\n",
      "                ('log',\n",
      "                 LogisticRegression(C=30, class_weight=None, dual=False,\n",
      "                                    fit_intercept=True, intercept_scaling=1,\n",
      "                                    l1_ratio=None, max_iter=1000,\n",
      "                                    multi_class='auto', n_jobs=None,\n",
      "                                    penalty='l2', random_state=0, solver='saga',\n",
      "                                    tol=0.0001, verbose=0, warm_start=False))],\n",
      "         verbose=False)\n"
     ]
    }
   ],
   "source": [
    "log_classifier = GridSearchCV(pipe, parameters, cv=3, n_jobs= -1)\n",
    "log_classifier.fit(tf_idf_data_train, y_train)\n",
    "print(log_classifier.best_estimator_)"
   ]
  },
  {
   "cell_type": "code",
   "execution_count": 5,
   "metadata": {},
   "outputs": [
    {
     "name": "stdout",
     "output_type": "stream",
     "text": [
      "Training Score:0.99132850077908\n",
      "Cross V Score: 0.591355242093368 +/- 0.0039297991386522384\n",
      "Testing Score: 0.6055679739890266\n",
      "Cross & Test Diff: 0.014212731895658637\n",
      "Standard Deviations Away: 3.616656066684626\n",
      "[[ 728  373  210]\n",
      " [ 390 1352  405]\n",
      " [ 206  357  900]]\n"
     ]
    }
   ],
   "source": [
    "evaluate_model(tf_idf_data_train, y_train, tf_idf_data_test, y_test, log_classifier)"
   ]
  },
  {
   "cell_type": "code",
   "execution_count": 6,
   "metadata": {},
   "outputs": [
    {
     "data": {
      "image/png": "[encoded data removed]",
      "text/plain": [
       "<Figure size 432x288 with 2 Axes>"
      ]
     },
     "metadata": {},
     "output_type": "display_data"
    }
   ],
   "source": [
    "confusion_matrix_heat_map(log_classifier, tf_idf_data_test, y_test)"
   ]
  },
  {
   "cell_type": "code",
   "execution_count": null,
   "metadata": {},
   "outputs": [],
   "source": []
  }
 ],
 "metadata": {
  "kernelspec": {
   "display_name": "Python 3",
   "language": "python",
   "name": "python3"
  },
  "language_info": {
   "codemirror_mode": {
    "name": "ipython",
    "version": 3
   },
   "file_extension": ".py",
   "mimetype": "text/x-python",
   "name": "python",
   "nbconvert_exporter": "python",
   "pygments_lexer": "ipython3",
   "version": "3.6.5"
  }
 },
 "nbformat": 4,
 "nbformat_minor": 2
}
