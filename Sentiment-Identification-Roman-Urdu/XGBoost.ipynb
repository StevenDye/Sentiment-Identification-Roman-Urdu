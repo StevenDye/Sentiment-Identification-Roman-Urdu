{
 "cells": [
  {
   "cell_type": "code",
   "execution_count": 1,
   "metadata": {},
   "outputs": [
    {
     "name": "stderr",
     "output_type": "stream",
     "text": [
      "/Users/stevedye/anaconda3/lib/python3.6/site-packages/h5py/__init__.py:36: FutureWarning: Conversion of the second argument of issubdtype from `float` to `np.floating` is deprecated. In future, it will be treated as `np.float64 == np.dtype(float).type`.\n",
      "  from ._conv import register_converters as _register_converters\n",
      "Using TensorFlow backend.\n",
      "/Users/stevedye/anaconda3/lib/python3.6/site-packages/numpy/core/fromnumeric.py:2957: RuntimeWarning: Mean of empty slice.\n",
      "  out=out, **kwargs)\n"
     ]
    }
   ],
   "source": [
    "import matplotlib.pyplot as plt\n",
    "from imblearn.over_sampling import SMOTE\n",
    "from imblearn.pipeline import Pipeline\n",
    "from sklearn.model_selection import cross_val_score, GridSearchCV\n",
    "from xgboost import XGBClassifier\n",
    "\n",
    "from src.data_prep import y_train, y_test, tf_idf_data_train, tf_idf_data_test\n",
    "from src.visualizations import evaluate_model, confusion_matrix_heat_map"
   ]
  },
  {
   "cell_type": "code",
   "execution_count": 2,
   "metadata": {},
   "outputs": [],
   "source": [
    "pipe = Pipeline([\n",
    "    ('smote', SMOTE(random_state=0)),\n",
    "    ('XGBC', XGBClassifier(random_state=0))])"
   ]
  },
  {
   "cell_type": "code",
   "execution_count": 3,
   "metadata": {},
   "outputs": [],
   "source": [
    "parameters = {'XGBC__max_depth': [7],\n",
    "              'XGBC__min_child_weight': [0.5]}"
   ]
  },
  {
   "cell_type": "code",
   "execution_count": 4,
   "metadata": {},
   "outputs": [
    {
     "name": "stdout",
     "output_type": "stream",
     "text": [
      "Pipeline(memory=None,\n",
      "         steps=[('smote',\n",
      "                 SMOTE(k_neighbors=5, kind='deprecated',\n",
      "                       m_neighbors='deprecated', n_jobs=1,\n",
      "                       out_step='deprecated', random_state=0, ratio=None,\n",
      "                       sampling_strategy='auto', svm_estimator='deprecated')),\n",
      "                ('XGBC',\n",
      "                 XGBClassifier(base_score=0.5, booster='gbtree',\n",
      "                               colsample_bylevel=1, colsample_bytree=1, gamma=0,\n",
      "                               learning_rate=0.1, max_delta_step=0, max_depth=7,\n",
      "                               min_child_weight=0.5, missing=None,\n",
      "                               n_estimators=100, n_jobs=1, nthread=None,\n",
      "                               objective='multi:softprob', random_state=0,\n",
      "                               reg_alpha=0, reg_lambda=1, scale_pos_weight=1,\n",
      "                               seed=None, silent=True, subsample=1))],\n",
      "         verbose=False)\n"
     ]
    }
   ],
   "source": [
    "xgb_classifier = GridSearchCV(pipe, parameters, cv=3, n_jobs= -1)\n",
    "xgb_classifier.fit(tf_idf_data_train, y_train)\n",
    "print(xgb_classifier.best_estimator_)"
   ]
  },
  {
   "cell_type": "code",
   "execution_count": 5,
   "metadata": {},
   "outputs": [
    {
     "name": "stdout",
     "output_type": "stream",
     "text": [
      "Training Score:0.6721089357089628\n",
      "Cross V Score: 0.5865452881820019 +/- 0.007302620440289829\n",
      "Testing Score: 0.5876854297906929\n",
      "Cross & Test Diff: 0.0011401416086910254\n",
      "Standard Deviations Away: 0.15612773770914692\n",
      "[[ 416  696  199]\n",
      " [ 139 1761  247]\n",
      " [ 129  619  715]]\n"
     ]
    }
   ],
   "source": [
    "evaluate_model(tf_idf_data_train, y_train, tf_idf_data_test, y_test, xgb_classifier)"
   ]
  },
  {
   "cell_type": "code",
   "execution_count": 6,
   "metadata": {},
   "outputs": [
    {
     "data": {
      "image/png": "[encoded data removed]",
      "text/plain": [
       "<Figure size 432x288 with 2 Axes>"
      ]
     },
     "metadata": {},
     "output_type": "display_data"
    }
   ],
   "source": [
    "confusion_matrix_heat_map(xgb_classifier, tf_idf_data_test, y_test)"
   ]
  },
  {
   "cell_type": "code",
   "execution_count": null,
   "metadata": {},
   "outputs": [],
   "source": []
  }
 ],
 "metadata": {
  "kernelspec": {
   "display_name": "Python 3",
   "language": "python",
   "name": "python3"
  },
  "language_info": {
   "codemirror_mode": {
    "name": "ipython",
    "version": 3
   },
   "file_extension": ".py",
   "mimetype": "text/x-python",
   "name": "python",
   "nbconvert_exporter": "python",
   "pygments_lexer": "ipython3",
   "version": "3.6.5"
  }
 },
 "nbformat": 4,
 "nbformat_minor": 2
}
